{
  "nbformat": 4,
  "nbformat_minor": 0,
  "metadata": {
    "colab": {
      "provenance": [],
      "gpuType": "T4",
      "authorship_tag": "ABX9TyNHZBGXS29XS2VpEd1Of33G",
      "include_colab_link": true
    },
    "kernelspec": {
      "name": "python3",
      "display_name": "Python 3"
    },
    "language_info": {
      "name": "python"
    }
  },
  "cells": [
    {
      "cell_type": "markdown",
      "metadata": {
        "id": "view-in-github",
        "colab_type": "text"
      },
      "source": [
        "<a href=\"https://colab.research.google.com/github/ImperatorAvrelianvs/Generalized_Pell_equation_solver/blob/main/Pell_analysis.ipynb\" target=\"_parent\"><img src=\"https://colab.research.google.com/assets/colab-badge.svg\" alt=\"Open In Colab\"/></a>"
      ]
    },
    {
      "cell_type": "code",
      "source": [
        "# Colab Monte‑Carlo Simulation of Generalized Pell (including zero‐solution cases)\n",
        "import math\n",
        "import random\n",
        "import signal\n",
        "import pandas as pd\n",
        "from typing import List, Tuple\n",
        "\n",
        "# --- 0) Timeout setup ---\n",
        "class TimeoutError(Exception):\n",
        "    \"\"\"Raised when a per-(D,N) solve exceeds the time limit.\"\"\"\n",
        "    pass\n",
        "\n",
        "def _timeout_handler(signum, frame):\n",
        "    raise TimeoutError()\n",
        "\n",
        "signal.signal(signal.SIGALRM, _timeout_handler)\n",
        "\n",
        "# --- 1) Continued‑fraction PQa generator ---\n",
        "def continued_fraction_pqa(D: int, P0: int, Q0: int):\n",
        "    P, Q = P0, Q0\n",
        "    A2, A1 = 0, 1\n",
        "    B2, B1 = 1, 0\n",
        "    G2, G1 = -P0, Q0\n",
        "    i = 0\n",
        "    while True:\n",
        "        a = (P + math.isqrt(D)) // Q\n",
        "        A = a*A1 + A2\n",
        "        B = a*B1 + B2\n",
        "        G = a*G1 + G2\n",
        "        if i >= 1 and abs(Q) == 1:\n",
        "            yield G1, B1\n",
        "            return\n",
        "        Pn = a*Q - P\n",
        "        Qn = (D - Pn*Pn) // Q\n",
        "        A2, A1 = A1, A\n",
        "        B2, B1 = B1, B\n",
        "        G2, G1 = G1, G\n",
        "        P, Q = Pn, Qn\n",
        "        i += 1\n",
        "\n",
        "# --- 2) Solve t^2 − D u^2 = −1 if needed ---\n",
        "def solve_pell_minus1(D: int) -> Tuple[int,int]:\n",
        "    a0 = math.isqrt(D)\n",
        "    m, d, a = 0, 1, a0\n",
        "    h2, h1 = 1, a\n",
        "    k2, k1 = 0, 1\n",
        "    while True:\n",
        "        if h1*h1 - D*k1*k1 == -1:\n",
        "            return h1, k1\n",
        "        m, d = d*a - m, (D - (d*a - m)**2)//d\n",
        "        a = (a0 + m)//d\n",
        "        h2, h1 = h1, a*h1 + h2\n",
        "        k2, k1 = k1, a*k1 + k2\n",
        "\n",
        "# --- 3) LMM solver for x^2 − D y^2 = N (primitive per class) ---\n",
        "def generalized_pell_LMM(D: int, N: int) -> List[Tuple[int,int]]:\n",
        "    sols = []\n",
        "    absN = abs(N)\n",
        "    if absN == 0:\n",
        "        return [(0,0)]\n",
        "    for f in range(1, math.isqrt(absN) + 1):\n",
        "        if N % (f*f) != 0:\n",
        "            continue\n",
        "        m = N // (f*f)\n",
        "        mod = abs(m)\n",
        "        for z in range(-mod//2 + 1, mod//2 + 1):\n",
        "            if (z*z - D) % mod != 0:\n",
        "                continue\n",
        "            for r, s in continued_fraction_pqa(D, z, mod):\n",
        "                val = r*r - D*s*s\n",
        "                if   val ==  m:\n",
        "                    sols.append((f*r, f*s))\n",
        "                elif val == -m:\n",
        "                    mn = solve_pell_minus1(D)\n",
        "                    if mn:\n",
        "                        t, u = mn\n",
        "                        x = f*(r*t + s*u*D)\n",
        "                        y = f*(r*u + s*t)\n",
        "                        sols.append((x, y))\n",
        "                break\n",
        "    return list(set(sols))\n",
        "\n",
        "# --- 4) Fundamental unit for x^2 − D y^2 = 1 ---\n",
        "def solve_pell_unit(D: int) -> Tuple[int,int]:\n",
        "    a0 = math.isqrt(D)\n",
        "    m, d, a = 0, 1, a0\n",
        "    h2, h1 = 1, a\n",
        "    k2, k1 = 0, 1\n",
        "    while True:\n",
        "        if h1*h1 - D*k1*k1 == 1:\n",
        "            return h1, k1\n",
        "        m, d = d*a - m, (D - (d*a - m)**2)//d\n",
        "        a = (a0 + m)//d\n",
        "        h2, h1 = h1, a*h1 + h2\n",
        "        k2, k1 = k1, a*k1 + k2\n",
        "\n",
        "# --- 5) Simulation parameters ---\n",
        "TRIALS        = 10000     # number of (D,N) samples\n",
        "class_length  = 10      # # extended solutions per class\n",
        "TIMEOUT       = 2       # seconds per (D,N) solve\n",
        "\n",
        "# --- 6) Monte Carlo loop ---\n",
        "rows = []\n",
        "for _ in range(TRIALS):\n",
        "    D = random.choice([d for d in range(2, 201) if math.isqrt(d)**2 != d])\n",
        "    N = random.randint(-200, 200)\n",
        "\n",
        "    signal.alarm(TIMEOUT)\n",
        "    try:\n",
        "        primitives = generalized_pell_LMM(D, N)\n",
        "    except TimeoutError:\n",
        "        primitives = []\n",
        "    finally:\n",
        "        signal.alarm(0)\n",
        "\n",
        "    num_classes = len(primitives)\n",
        "\n",
        "    if num_classes == 0:\n",
        "        # record a zero‐solution case\n",
        "        rows.append({\n",
        "            'D': D,\n",
        "            'N': N,\n",
        "            'num_classes': 0,\n",
        "            'x': 0,\n",
        "            'y': 0\n",
        "        })\n",
        "        continue\n",
        "\n",
        "    # fundamental unit for extension\n",
        "    u, v = solve_pell_unit(D)\n",
        "\n",
        "    # for each primitive, generate up to class_length extended solutions\n",
        "    for x0, y0 in primitives:\n",
        "        uk, vk = 1, 0\n",
        "        for _ in range(class_length):\n",
        "            xk = x0*uk + y0*vk*D\n",
        "            yk = x0*vk + y0*uk\n",
        "            rows.append({\n",
        "                'D': D,\n",
        "                'N': N,\n",
        "                'num_classes': num_classes,\n",
        "                'x': xk,\n",
        "                'y': yk\n",
        "            })\n",
        "            uk, vk = uk*u + vk*v*D, uk*v + vk*u\n",
        "\n",
        "# --- 7) Save to CSV ---\n",
        "df = pd.DataFrame(rows)\n",
        "csv_path = '/content/pell_dataset.csv'\n",
        "df.to_csv(csv_path, index=False)\n",
        "\n",
        "print(\"Done! Sample of generated data:\")\n",
        "print(df.head())\n",
        "print(\"\\nDataset saved to:\", csv_path)\n"
      ],
      "metadata": {
        "colab": {
          "base_uri": "https://localhost:8080/"
        },
        "id": "_FNldgNZavIR",
        "outputId": "ebd3e237-c91b-46ed-b132-78e8edb20392"
      },
      "execution_count": 7,
      "outputs": [
        {
          "output_type": "stream",
          "name": "stdout",
          "text": [
            "Done! Sample of generated data:\n",
            "     D    N  num_classes  x  y\n",
            "0  113  -87            0  0  0\n",
            "1  140  136            0  0  0\n",
            "2  188  -20            0  0  0\n",
            "3   60 -118            0  0  0\n",
            "4   31 -122            0  0  0\n",
            "\n",
            "Dataset saved to: /content/pell_dataset.csv\n"
          ]
        }
      ]
    },
    {
      "cell_type": "code",
      "source": [
        "from google.colab import files\n",
        "files.download('/content/pell_dataset.csv')\n"
      ],
      "metadata": {
        "colab": {
          "base_uri": "https://localhost:8080/",
          "height": 17
        },
        "id": "aZTiDOw0bWMl",
        "outputId": "d13ad0ac-4071-4f92-a38c-6d0199c1135b"
      },
      "execution_count": 8,
      "outputs": [
        {
          "output_type": "display_data",
          "data": {
            "text/plain": [
              "<IPython.core.display.Javascript object>"
            ],
            "application/javascript": [
              "\n",
              "    async function download(id, filename, size) {\n",
              "      if (!google.colab.kernel.accessAllowed) {\n",
              "        return;\n",
              "      }\n",
              "      const div = document.createElement('div');\n",
              "      const label = document.createElement('label');\n",
              "      label.textContent = `Downloading \"${filename}\": `;\n",
              "      div.appendChild(label);\n",
              "      const progress = document.createElement('progress');\n",
              "      progress.max = size;\n",
              "      div.appendChild(progress);\n",
              "      document.body.appendChild(div);\n",
              "\n",
              "      const buffers = [];\n",
              "      let downloaded = 0;\n",
              "\n",
              "      const channel = await google.colab.kernel.comms.open(id);\n",
              "      // Send a message to notify the kernel that we're ready.\n",
              "      channel.send({})\n",
              "\n",
              "      for await (const message of channel.messages) {\n",
              "        // Send a message to notify the kernel that we're ready.\n",
              "        channel.send({})\n",
              "        if (message.buffers) {\n",
              "          for (const buffer of message.buffers) {\n",
              "            buffers.push(buffer);\n",
              "            downloaded += buffer.byteLength;\n",
              "            progress.value = downloaded;\n",
              "          }\n",
              "        }\n",
              "      }\n",
              "      const blob = new Blob(buffers, {type: 'application/binary'});\n",
              "      const a = document.createElement('a');\n",
              "      a.href = window.URL.createObjectURL(blob);\n",
              "      a.download = filename;\n",
              "      div.appendChild(a);\n",
              "      a.click();\n",
              "      div.remove();\n",
              "    }\n",
              "  "
            ]
          },
          "metadata": {}
        },
        {
          "output_type": "display_data",
          "data": {
            "text/plain": [
              "<IPython.core.display.Javascript object>"
            ],
            "application/javascript": [
              "download(\"download_d3e42381-8b76-41ab-923c-4bd312e03bdc\", \"pell_dataset.csv\", 2330210)"
            ]
          },
          "metadata": {}
        }
      ]
    }
  ]
}